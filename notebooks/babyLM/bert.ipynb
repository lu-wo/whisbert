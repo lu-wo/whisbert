{
 "cells": [
  {
   "cell_type": "markdown",
   "metadata": {},
   "source": [
    "## Load pretrained BERT"
   ]
  },
  {
   "cell_type": "code",
   "execution_count": 430,
   "metadata": {},
   "outputs": [],
   "source": [
    "# bert_path = \"/Users/lukas/Desktop/Projects/MIT/MIT_prosody/precomputed/babylm_runs/20-18-29_text_only/checkpoints/bert\"\n",
    "bert_path = \"/Users/lukas/Desktop/Projects/MIT/MIT_prosody/precomputed/babylm_runs/23-00-09_multi/checkpoints/bert\""
   ]
  },
  {
   "cell_type": "code",
   "execution_count": 445,
   "metadata": {},
   "outputs": [],
   "source": [
    "from transformers import BertTokenizer, BertForMaskedLM, BertModel\n",
    "import torch\n",
    "\n",
    "# Load pre-trained model tokenizer (vocabulary)\n",
    "# tokenizer = BertTokenizer.from_pretrained(\"bert-base-cased\")\n",
    "tokenizer = BertTokenizer.from_pretrained(\n",
    "    \"/Users/lukas/Desktop/Projects/MIT/MIT_prosody/src/tokenizer/tokenizer-trained-babylm_100M\"\n",
    ")\n",
    "model = BertForMaskedLM.from_pretrained(bert_path).eval()"
   ]
  },
  {
   "cell_type": "code",
   "execution_count": 464,
   "metadata": {},
   "outputs": [],
   "source": [
    "# load pack\n",
    "import pickle\n",
    "\n",
    "with open(\n",
    "    \"/Users/lukas/Desktop/Projects/MIT/data/peoples_speech/packs/100M_local_5/sample_pack_1987.pkl\",\n",
    "    \"rb\",\n",
    ") as f:\n",
    "    pack = pickle.load(f)"
   ]
  },
  {
   "cell_type": "code",
   "execution_count": 465,
   "metadata": {},
   "outputs": [
    {
     "data": {
      "text/plain": [
       "[\"Hi, this is Bill Safer, your host of Hidden Treasures, and welcome to another episode. This is WCCA-TV coming to you from its studios in downtown Worcester. It's visible on cable in Worcester on Channel one-nine-four and worldwide on the Internet at www.wccatv.com. And before I introduce my very special\",\n",
       " 'guest, I would like to do some shout-outs. Cookies are for sale at New Teaks at the Barn in Paxton, owned by Linda Katsopoulos, who has been a guest on this show two times. You can get a double treat by visiting New Teaks at the Barn and buying a',\n",
       " \"delicious cookie when you leave. So you'll have double prices. I'd like to also say hello to C.C. Lowell and their new location on Four Fifty-Five Pleasant Street not too far from Park Ave in Worcester and they have been in business over a century. They're the second oldest business\"]"
      ]
     },
     "execution_count": 465,
     "metadata": {},
     "output_type": "execute_result"
    }
   ],
   "source": [
    "texts = [p[1] for p in pack]\n",
    "texts[:3]"
   ]
  },
  {
   "cell_type": "code",
   "execution_count": 448,
   "metadata": {},
   "outputs": [],
   "source": [
    "def _mask_text_tokens(inputs, mask_rate):\n",
    "    \"\"\"\n",
    "    inputs: input_ids, attention_mask, token_type_ids\n",
    "    \"\"\"\n",
    "    labels = inputs.clone()\n",
    "    inputs_cloned = inputs.clone()\n",
    "\n",
    "    probability_matrix = torch.full(labels.shape, mask_rate)\n",
    "\n",
    "    # Determine which tokens to mask\n",
    "    masked_indices = torch.bernoulli(probability_matrix).bool()\n",
    "\n",
    "    # Mask tokens\n",
    "    inputs_cloned[masked_indices] = tokenizer.convert_tokens_to_ids(\"[MASK]\")\n",
    "\n",
    "    # Replace -100 in labels that we do not want to compute the loss for\n",
    "    labels[~masked_indices] = -100\n",
    "\n",
    "    return inputs_cloned, labels"
   ]
  },
  {
   "cell_type": "code",
   "execution_count": 454,
   "metadata": {},
   "outputs": [
    {
     "name": "stdout",
     "output_type": "stream",
     "text": [
      "guest, I would like to do some shout-outs. Cookies are for sale at New Teaks at the Barn in Paxton, owned by Linda Katsopoulos, who has been a guest on this show two times. You can get a double treat by visiting New Teaks at the Barn and buying a\n",
      "Input ids: tensor([[    2, 10771,    16,    51,  5876,  5808,  5667,  5722,  5867,  8982,\n",
      "            17, 17461,    18, 14822,  5742,  5707, 11415,  5743,  5983,  8474,\n",
      "          6132,  5743,  5653, 11568,  5672,  6633, 18812,    16,  9894,  5785,\n",
      "         13395, 10431,  5968, 12654, 30362,  4300,    16,  5828,  5901,  5931,\n",
      "            43, 10771,  5691,  5732,  6211,  5958,  6603,    18,  5668,  5765,\n",
      "          5821,    43,  8829,  7419,  5785, 13658,  5983,  8474,  6132,  5743,\n",
      "          5653, 11568,  5670, 11836,    43,     3]])\n"
     ]
    }
   ],
   "source": [
    "text = \"\"\"\n",
    "Former President Donald J. Trump was charged with four counts in connection with his efforts to subvert the will of voters in 2020. “Despite having lost, the defendant was determined to remain in power,” prosecutors wrote.\"\"\"\n",
    "\n",
    "text = texts[1]\n",
    "print(text)\n",
    "\n",
    "# Tokenize the text\n",
    "input_ids = tokenizer.encode(text, return_tensors=\"pt\")\n",
    "print(f\"Input ids: {input_ids}\")\n",
    "\n",
    "# mask tokens\n",
    "input_ids, labels = _mask_text_tokens(input_ids, 0.5)\n",
    "# input_ids, labels"
   ]
  },
  {
   "cell_type": "code",
   "execution_count": 455,
   "metadata": {},
   "outputs": [],
   "source": [
    "# model = BertForMaskedLM.from_pretrained('bert-base-cased')"
   ]
  },
  {
   "cell_type": "code",
   "execution_count": 456,
   "metadata": {},
   "outputs": [
    {
     "name": "stdout",
     "output_type": "stream",
     "text": [
      "Bert input ids [0]: tensor([    2,     4,     4,    51,     4,  5808,     4,     4,  5867,     4,\n",
      "            4, 17461,    18,     4,     4,     4,     4,     4,  5983,     4,\n",
      "         6132,     4,     4, 11568,  5672,  6633, 18812,     4,     4,     4,\n",
      "        13395,     4,  5968, 12654,     4,     4,     4,  5828,  5901,     4,\n",
      "            4,     4,  5691,     4,  6211,     4,  6603,     4,     4,  5765,\n",
      "         5821,     4,  8829,  7419,  5785, 13658,     4,     4,  6132,     4,\n",
      "            4, 11568,     4, 11836,     4,     4])\n",
      "Bert labels [0]: tensor([ -100, 10771,    16,  -100,  5876,  -100,  5667,  5722,  -100,  8982,\n",
      "           17,  -100,  -100, 14822,  5742,  5707, 11415,  5743,  -100,  8474,\n",
      "         -100,  5743,  5653,  -100,  -100,  -100,  -100,    16,  9894,  5785,\n",
      "         -100, 10431,  -100,  -100, 30362,  4300,    16,  -100,  -100,  5931,\n",
      "           43, 10771,  -100,  5732,  -100,  5958,  -100,    18,  5668,  -100,\n",
      "         -100,    43,  -100,  -100,  -100,  -100,  5983,  8474,  -100,  5743,\n",
      "         5653,  -100,  5670,  -100,    43,     3])\n",
      "BERT Token preds [0]: tensor([    2, 10771,    16,  5700,  5876,  5808,  5667,  5722,  5867,  8982,\n",
      "           17, 17461,    18, 14822,  5742,  5707, 11415,  5743,  5722,  8474,\n",
      "         6132,  5743,  5653, 11568,  5672,  6633, 18812,    16,  9894,  5785,\n",
      "        13395, 10431,  5968, 12654, 30362,  4300,    16,  5808,  5901,  5931,\n",
      "           43, 10771,  5691,  5732,  6211,  5958,  6603,    18,  5668,  5949,\n",
      "         5700,    43,  8829,  7419,  5785, 13658,  5983,  8474,  6132,  5743,\n",
      "         5653, 11568,  5670, 11836,    43,     3])\n",
      "Num masked tokens: 37\n",
      "BERT logits filtered softmax [0]: tensor([0.9991, 1.0000, 1.0000, 1.0000, 1.0000, 0.9992, 0.9997, 0.9987, 1.0000,\n",
      "        1.0000, 0.9994, 0.9933, 0.9981, 1.0000, 1.0000, 1.0000, 0.9991, 1.0000,\n",
      "        0.9984, 0.9981, 0.9996, 1.0000, 0.9999, 1.0000, 0.9981, 0.9999, 0.9998,\n",
      "        1.0000, 1.0000, 1.0000, 1.0000, 0.9982, 1.0000, 1.0000, 1.0000, 1.0000,\n",
      "        0.9998], grad_fn=<IndexBackward0>)\n"
     ]
    }
   ],
   "source": [
    "outputs = model(input_ids=input_ids, labels=labels)"
   ]
  },
  {
   "cell_type": "code",
   "execution_count": 457,
   "metadata": {},
   "outputs": [
    {
     "data": {
      "text/plain": [
       "tensor(0.0006, grad_fn=<NllLossBackward0>)"
      ]
     },
     "execution_count": 457,
     "metadata": {},
     "output_type": "execute_result"
    }
   ],
   "source": [
    "outputs.loss"
   ]
  },
  {
   "cell_type": "code",
   "execution_count": 459,
   "metadata": {},
   "outputs": [
    {
     "data": {
      "text/plain": [
       "'[CLS] guest, we would like to do some shout - outs. cookies are for sale at do teaks at the barn in paxton, owned by linda katsopoulos, like has been a guest on this show two times. you could we a double treat by visiting new teaks at the barn and buying a [SEP]'"
      ]
     },
     "execution_count": 459,
     "metadata": {},
     "output_type": "execute_result"
    }
   ],
   "source": [
    "pred_tokens = torch.tensor(\n",
    "    [\n",
    "        2,\n",
    "        10771,\n",
    "        16,\n",
    "        5700,\n",
    "        5876,\n",
    "        5808,\n",
    "        5667,\n",
    "        5722,\n",
    "        5867,\n",
    "        8982,\n",
    "        17,\n",
    "        17461,\n",
    "        18,\n",
    "        14822,\n",
    "        5742,\n",
    "        5707,\n",
    "        11415,\n",
    "        5743,\n",
    "        5722,\n",
    "        8474,\n",
    "        6132,\n",
    "        5743,\n",
    "        5653,\n",
    "        11568,\n",
    "        5672,\n",
    "        6633,\n",
    "        18812,\n",
    "        16,\n",
    "        9894,\n",
    "        5785,\n",
    "        13395,\n",
    "        10431,\n",
    "        5968,\n",
    "        12654,\n",
    "        30362,\n",
    "        4300,\n",
    "        16,\n",
    "        5808,\n",
    "        5901,\n",
    "        5931,\n",
    "        43,\n",
    "        10771,\n",
    "        5691,\n",
    "        5732,\n",
    "        6211,\n",
    "        5958,\n",
    "        6603,\n",
    "        18,\n",
    "        5668,\n",
    "        5949,\n",
    "        5700,\n",
    "        43,\n",
    "        8829,\n",
    "        7419,\n",
    "        5785,\n",
    "        13658,\n",
    "        5983,\n",
    "        8474,\n",
    "        6132,\n",
    "        5743,\n",
    "        5653,\n",
    "        11568,\n",
    "        5670,\n",
    "        11836,\n",
    "        43,\n",
    "        3,\n",
    "    ]\n",
    ")\n",
    "\n",
    "tokenizer.decode(pred_tokens)"
   ]
  },
  {
   "cell_type": "code",
   "execution_count": null,
   "metadata": {},
   "outputs": [],
   "source": []
  },
  {
   "cell_type": "code",
   "execution_count": null,
   "metadata": {},
   "outputs": [],
   "source": []
  },
  {
   "cell_type": "code",
   "execution_count": null,
   "metadata": {},
   "outputs": [],
   "source": []
  }
 ],
 "metadata": {
  "kernelspec": {
   "display_name": "prosody",
   "language": "python",
   "name": "python3"
  },
  "language_info": {
   "codemirror_mode": {
    "name": "ipython",
    "version": 3
   },
   "file_extension": ".py",
   "mimetype": "text/x-python",
   "name": "python",
   "nbconvert_exporter": "python",
   "pygments_lexer": "ipython3",
   "version": "3.9.16"
  },
  "orig_nbformat": 4
 },
 "nbformat": 4,
 "nbformat_minor": 2
}
