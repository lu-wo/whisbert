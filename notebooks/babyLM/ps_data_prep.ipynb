{
 "cells": [
  {
   "cell_type": "markdown",
   "metadata": {},
   "source": [
    "### Create csv for files mapping "
   ]
  },
  {
   "cell_type": "code",
   "execution_count": 7,
   "metadata": {},
   "outputs": [
    {
     "name": "stdout",
     "output_type": "stream",
     "text": [
      "Found: 10\n"
     ]
    }
   ],
   "source": [
    "from src.utils.text_processing import create_audio_alignment_mapping_file\n",
    "\n",
    "audio_root = \"/Users/lukas/Desktop/Projects/MIT/data/peoples_speech/debug/audio\"\n",
    "alignment_root = (\n",
    "    \"/Users/lukas/Desktop/Projects/MIT/data/peoples_speech/debug/transcript\"\n",
    ")\n",
    "\n",
    "df = create_audio_alignment_mapping_file(audio_root, alignment_root)"
   ]
  },
  {
   "cell_type": "code",
   "execution_count": 9,
   "metadata": {},
   "outputs": [],
   "source": [
    "df.to_csv(\"/Users/lukas/Desktop/Projects/MIT/data/peoples_speech/debug/files.csv\")"
   ]
  },
  {
   "cell_type": "markdown",
   "metadata": {},
   "source": [
    "## Load csv and start from these files "
   ]
  },
  {
   "cell_type": "code",
   "execution_count": 11,
   "metadata": {},
   "outputs": [],
   "source": [
    "import pandas as pd\n",
    "\n",
    "df = pd.read_csv(\n",
    "    \"/Users/lukas/Desktop/Projects/MIT/data/peoples_speech/debug/files.csv\"\n",
    ")\n",
    "\n",
    "audios = df[\"audio\"].tolist()\n",
    "transcripts = df[\"transcript\"].tolist()"
   ]
  },
  {
   "cell_type": "code",
   "execution_count": null,
   "metadata": {},
   "outputs": [],
   "source": []
  }
 ],
 "metadata": {
  "kernelspec": {
   "display_name": "prosody",
   "language": "python",
   "name": "python3"
  },
  "language_info": {
   "codemirror_mode": {
    "name": "ipython",
    "version": 3
   },
   "file_extension": ".py",
   "mimetype": "text/x-python",
   "name": "python",
   "nbconvert_exporter": "python",
   "pygments_lexer": "ipython3",
   "version": "3.9.16"
  },
  "orig_nbformat": 4
 },
 "nbformat": 4,
 "nbformat_minor": 2
}
