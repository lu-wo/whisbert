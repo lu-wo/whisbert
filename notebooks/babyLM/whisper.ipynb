{
 "cells": [
  {
   "cell_type": "code",
   "execution_count": 24,
   "metadata": {},
   "outputs": [],
   "source": [
    "from src.models.components.encoders import MyWhisperEncoder\n",
    "from transformers import WhisperConfig\n",
    "import torch\n",
    "\n",
    "config = WhisperConfig(\n",
    "    encoder_layers=6,\n",
    "    encoder_attention_heads=6,\n",
    "    encoder_ffn_dim=3072,\n",
    "    max_source_positions=4096,\n",
    "    num_mel_bins=80,\n",
    "    d_model=768,\n",
    "    kernel_size=5,\n",
    "    stride=3,\n",
    "    mask_rate=0.3,\n",
    "    mask_value=-5,\n",
    ")\n",
    "\n",
    "encoder = MyWhisperEncoder(config)"
   ]
  },
  {
   "cell_type": "code",
   "execution_count": 25,
   "metadata": {},
   "outputs": [],
   "source": [
    "# from transformers import WhisperModel\n",
    "\n",
    "# whisper_pre = WhisperModel.from_pretrained(\"openai/whisper-base\")\n",
    "# whisper_config = WhisperConfig(\n",
    "#     kernel_size=3, stride=1, d_model=512, encoder_ffn_dim=2048\n",
    "# )\n",
    "# mywhisperencoder = MyWhisperEncoder(whisper_config)\n",
    "# mywhisperencoder.load_weights(whisper_pre.encoder)"
   ]
  },
  {
   "cell_type": "code",
   "execution_count": 26,
   "metadata": {},
   "outputs": [],
   "source": [
    "from transformers import WhisperFeatureExtractor\n",
    "import numpy as np\n",
    "\n",
    "feature_extractor = WhisperFeatureExtractor(\n",
    "    feature_size=80,\n",
    "    sampling_rate=16000,\n",
    "    padding_value=0.0,\n",
    "    return_attention_mask=True,\n",
    "    chunk_length=4096,\n",
    ")\n",
    "\n",
    "t = np.ones(16000 * 10)\n",
    "\n",
    "inputs = feature_extractor(\n",
    "    [t, t],\n",
    "    return_tensors=\"pt\",\n",
    "    padding=True,\n",
    "    return_attention_mask=True,\n",
    "    sampling_rate=16000,\n",
    ")"
   ]
  },
  {
   "cell_type": "code",
   "execution_count": 27,
   "metadata": {},
   "outputs": [
    {
     "data": {
      "text/plain": [
       "dict_keys(['input_features', 'attention_mask'])"
      ]
     },
     "execution_count": 27,
     "metadata": {},
     "output_type": "execute_result"
    }
   ],
   "source": [
    "inputs.keys()"
   ]
  },
  {
   "cell_type": "code",
   "execution_count": 28,
   "metadata": {},
   "outputs": [
    {
     "data": {
      "text/plain": [
       "torch.Size([2, 80, 1000])"
      ]
     },
     "execution_count": 28,
     "metadata": {},
     "output_type": "execute_result"
    }
   ],
   "source": [
    "inputs.input_features.shape"
   ]
  },
  {
   "cell_type": "code",
   "execution_count": 29,
   "metadata": {},
   "outputs": [],
   "source": [
    "outputs = encoder(**inputs)"
   ]
  },
  {
   "cell_type": "code",
   "execution_count": 30,
   "metadata": {},
   "outputs": [
    {
     "data": {
      "text/plain": [
       "torch.Size([2, 333, 768])"
      ]
     },
     "execution_count": 30,
     "metadata": {},
     "output_type": "execute_result"
    }
   ],
   "source": [
    "outputs.last_hidden_state.shape"
   ]
  },
  {
   "cell_type": "code",
   "execution_count": 31,
   "metadata": {},
   "outputs": [
    {
     "data": {
      "text/plain": [
       "odict_keys(['last_hidden_state', 'hidden_states', 'attentions', 'conv_embeddings'])"
      ]
     },
     "execution_count": 31,
     "metadata": {},
     "output_type": "execute_result"
    }
   ],
   "source": [
    "outputs.keys()"
   ]
  },
  {
   "cell_type": "code",
   "execution_count": null,
   "metadata": {},
   "outputs": [],
   "source": []
  },
  {
   "cell_type": "code",
   "execution_count": null,
   "metadata": {},
   "outputs": [],
   "source": []
  }
 ],
 "metadata": {
  "kernelspec": {
   "display_name": "prosody",
   "language": "python",
   "name": "python3"
  },
  "language_info": {
   "codemirror_mode": {
    "name": "ipython",
    "version": 3
   },
   "file_extension": ".py",
   "mimetype": "text/x-python",
   "name": "python",
   "nbconvert_exporter": "python",
   "pygments_lexer": "ipython3",
   "version": "3.9.16"
  },
  "orig_nbformat": 4
 },
 "nbformat": 4,
 "nbformat_minor": 2
}
