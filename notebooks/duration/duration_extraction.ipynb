{
 "cells": [
  {
   "cell_type": "code",
   "execution_count": 16,
   "metadata": {},
   "outputs": [],
   "source": [
    "from src.utils.old_features import (\n",
    "    WordBreakExtractor,\n",
    "    DurationExtractor,\n",
    "    read_lab_file,\n",
    "    get_duration_features_from_lab_root,\n",
    ")\n",
    "import numpy as np"
   ]
  },
  {
   "cell_type": "code",
   "execution_count": 57,
   "metadata": {},
   "outputs": [],
   "source": [
    "LAB_PATH = \"/Users/lukas/Desktop/projects/MIT/data/LibriTTSCorpusLabel/debug/121/121726/121_121726_000025_000001.lab\"\n",
    "LAB_ROOT = \"/Users/lukas/Desktop/projects/MIT/data/LibriTTSCorpusLabel/debug\"\n",
    "WAV_ROOT = \"/Users/lukas/Desktop/projects/MIT/data/LibriTTS/debug\"\n",
    "DATA_CACHE = \"/Users/lukas/Desktop/projects/MIT/data/cache\""
   ]
  },
  {
   "cell_type": "code",
   "execution_count": 43,
   "metadata": {},
   "outputs": [],
   "source": [
    "# extractor = DurationExtractor(modes=[\"duration\", \"duration_scaled\"])\n",
    "extractor = WordBreakExtractor(modes=[\"before\", \"after\"])"
   ]
  },
  {
   "cell_type": "code",
   "execution_count": 44,
   "metadata": {},
   "outputs": [],
   "source": [
    "lines = read_lab_file(LAB_PATH)\n",
    "# lines"
   ]
  },
  {
   "cell_type": "code",
   "execution_count": 45,
   "metadata": {},
   "outputs": [
    {
     "data": {
      "text/plain": [
       "[['0.0', '0.03'],\n",
       " ['0.03', '0.48', 'once'],\n",
       " ['0.48', '0.82', 'held'],\n",
       " ['0.82', '1.02', 'by'],\n",
       " ['1.02', '1.65', 'hobson'],\n",
       " ['1.65', '1.81', 'and'],\n",
       " ['1.81', '2.21', 'dewey'],\n",
       " ['2.21', '2.77'],\n",
       " ['2.77', '3.24', 'now'],\n",
       " ['3.24', '3.73', 'carried'],\n",
       " ['3.73', '4.0', 'by'],\n",
       " ['4.0', '4.39', 'mother'],\n",
       " ['4.39', '4.79', 'eddy'],\n",
       " ['4.79', '5.12', 'and'],\n",
       " ['5.12', '5.44', 'brother'],\n",
       " ['5.44', '6.01', 'dowie'],\n",
       " ['6.01', '6.11']]"
      ]
     },
     "execution_count": 45,
     "metadata": {},
     "output_type": "execute_result"
    }
   ],
   "source": [
    "lines"
   ]
  },
  {
   "cell_type": "code",
   "execution_count": 48,
   "metadata": {},
   "outputs": [
    {
     "data": {
      "text/plain": [
       "[('once', {'before': 0.03, 'after': 0.0}),\n",
       " ('held', {'before': 0.0, 'after': 0.0}),\n",
       " ('by', {'before': 0.0, 'after': 0.0}),\n",
       " ('hobson', {'before': 0.0, 'after': 0.0}),\n",
       " ('and', {'before': 0.0, 'after': 0.0}),\n",
       " ('dewey', {'before': 0.0, 'after': 0.56}),\n",
       " ('now', {'before': 0.56, 'after': 0.0}),\n",
       " ('carried', {'before': 0.0, 'after': 0.0}),\n",
       " ('by', {'before': 0.0, 'after': 0.0}),\n",
       " ('mother', {'before': 0.0, 'after': 0.0}),\n",
       " ('eddy', {'before': 0.0, 'after': 0.0}),\n",
       " ('and', {'before': 0.0, 'after': 0.0}),\n",
       " ('brother', {'before': 0.0, 'after': 0.0}),\n",
       " ('dowie', {'before': 0.0, 'after': 0.0})]"
      ]
     },
     "execution_count": 48,
     "metadata": {},
     "output_type": "execute_result"
    }
   ],
   "source": [
    "features = extractor.extract_from_lab_lines(lines=lines)\n",
    "features"
   ]
  },
  {
   "cell_type": "code",
   "execution_count": 49,
   "metadata": {},
   "outputs": [
    {
     "data": {
      "text/plain": [
       "['once',\n",
       " 'held',\n",
       " 'by',\n",
       " 'hobson',\n",
       " 'and',\n",
       " 'dewey',\n",
       " 'now',\n",
       " 'carried',\n",
       " 'by',\n",
       " 'mother',\n",
       " 'eddy',\n",
       " 'and',\n",
       " 'brother',\n",
       " 'dowie']"
      ]
     },
     "execution_count": 49,
     "metadata": {},
     "output_type": "execute_result"
    }
   ],
   "source": [
    "[item[0] for item in features]"
   ]
  },
  {
   "cell_type": "code",
   "execution_count": 53,
   "metadata": {},
   "outputs": [
    {
     "name": "stderr",
     "output_type": "stream",
     "text": [
      "Readers: 100%|██████████| 1/1 [00:00<00:00, 407.33it/s]\n"
     ]
    }
   ],
   "source": [
    "samples = get_duration_features_from_lab_root(\n",
    "    lab_root=LAB_ROOT, wav_root=WAV_ROOT, feature_extractor=extractor\n",
    ")"
   ]
  },
  {
   "cell_type": "code",
   "execution_count": 55,
   "metadata": {},
   "outputs": [
    {
     "data": {
      "text/plain": [
       "[('also', {'before': 0.03, 'after': 0.0}),\n",
       " ('a', {'before': 0.0, 'after': 0.0}),\n",
       " ('popular', {'before': 0.0, 'after': 0.0}),\n",
       " ('contrivance', {'before': 0.0, 'after': 0.3700000000000001}),\n",
       " ('whereby', {'before': 0.3700000000000001, 'after': 0.0}),\n",
       " ('love', {'before': 0.0, 'after': 0.029999999999999805}),\n",
       " ('making', {'before': 0.029999999999999805, 'after': 0.0}),\n",
       " ('may', {'before': 0.0, 'after': 0.0}),\n",
       " ('be', {'before': 0.0, 'after': 0.0}),\n",
       " ('suspended', {'before': 0.0, 'after': 0.3100000000000005}),\n",
       " ('but', {'before': 0.3100000000000005, 'after': 0.0}),\n",
       " ('not', {'before': 0.0, 'after': 0.0}),\n",
       " ('stopped', {'before': 0.0, 'after': 0.11000000000000032}),\n",
       " ('during', {'before': 0.11000000000000032, 'after': 0.0}),\n",
       " ('the', {'before': 0.0, 'after': 0.0}),\n",
       " ('picnic', {'before': 0.0, 'after': 0.0}),\n",
       " ('season', {'before': 0.0, 'after': 0.0})]"
      ]
     },
     "execution_count": 55,
     "metadata": {},
     "output_type": "execute_result"
    }
   ],
   "source": [
    "samples[0][\"features\"]"
   ]
  },
  {
   "cell_type": "code",
   "execution_count": 63,
   "metadata": {},
   "outputs": [
    {
     "name": "stdout",
     "output_type": "stream",
     "text": [
      "Searching for features from /Users/lukas/Desktop/projects/MIT/data/LibriTTSCorpusLabel/debug...\n",
      "Loaded 13 samples from cache.\n",
      "Finished extracting 13 samples.\n"
     ]
    }
   ],
   "source": [
    "from src.data.components.feature_extractors import (\n",
    "    DurationFeatureExtractor,\n",
    "    WordBreakFeatureExtractor,\n",
    ")\n",
    "\n",
    "# feature_extractor = DurationFeatureExtractor(lab_root=LAB_ROOT, wav_root=WAV_ROOT)\n",
    "feature_extractor = WordBreakFeatureExtractor(\n",
    "    lab_root=LAB_ROOT, wav_root=WAV_ROOT, data_cache=DATA_CACHE\n",
    ")"
   ]
  },
  {
   "cell_type": "code",
   "execution_count": 64,
   "metadata": {},
   "outputs": [
    {
     "data": {
      "text/plain": [
       "(13, 91)"
      ]
     },
     "execution_count": 64,
     "metadata": {},
     "output_type": "execute_result"
    }
   ],
   "source": [
    "all_texts = feature_extractor.get_all_texts()\n",
    "words = [word for ut in all_texts for word in ut.split(\" \")]\n",
    "len(all_texts), len(words)"
   ]
  },
  {
   "attachments": {},
   "cell_type": "markdown",
   "metadata": {},
   "source": []
  },
  {
   "cell_type": "code",
   "execution_count": 66,
   "metadata": {},
   "outputs": [
    {
     "data": {
      "text/plain": [
       "(13, 91)"
      ]
     },
     "execution_count": 66,
     "metadata": {},
     "output_type": "execute_result"
    }
   ],
   "source": [
    "# all_durations = feature_extractor.get_all_durations()\n",
    "# word_durs = [word_dur for ut in all_durations for word_dur in ut]\n",
    "# len(all_durations), len(word_durs)\n",
    "all_breaks = feature_extractor.get_all_breaks()\n",
    "word_breaks = [word_break for ut in all_breaks for word_break in ut]\n",
    "len(all_breaks), len(word_breaks)"
   ]
  },
  {
   "cell_type": "code",
   "execution_count": 67,
   "metadata": {},
   "outputs": [
    {
     "data": {
      "text/plain": [
       "'painful to hear'"
      ]
     },
     "execution_count": 67,
     "metadata": {},
     "output_type": "execute_result"
    }
   ],
   "source": [
    "feature_extractor.get_text(10)"
   ]
  },
  {
   "cell_type": "code",
   "execution_count": 74,
   "metadata": {},
   "outputs": [
    {
     "data": {
      "text/plain": [
       "[0.03, 0.0, 0.030000000000000027, 0.0, 0.0]"
      ]
     },
     "execution_count": 74,
     "metadata": {},
     "output_type": "execute_result"
    }
   ],
   "source": [
    "# feature_extractor.get_duration(10)\n",
    "feature_extractor.get_break_before(1)"
   ]
  },
  {
   "cell_type": "code",
   "execution_count": 75,
   "metadata": {},
   "outputs": [
    {
     "ename": "AttributeError",
     "evalue": "'WordBreakFeatureExtractor' object has no attribute 'get_scaled_duration'",
     "output_type": "error",
     "traceback": [
      "\u001b[0;31m---------------------------------------------------------------------------\u001b[0m",
      "\u001b[0;31mAttributeError\u001b[0m                            Traceback (most recent call last)",
      "Cell \u001b[0;32mIn[75], line 1\u001b[0m\n\u001b[0;32m----> 1\u001b[0m feature_extractor\u001b[39m.\u001b[39;49mget_scaled_duration(\u001b[39m10\u001b[39m)\n",
      "\u001b[0;31mAttributeError\u001b[0m: 'WordBreakFeatureExtractor' object has no attribute 'get_scaled_duration'"
     ]
    }
   ],
   "source": [
    "feature_extractor.get_scaled_duration(10)"
   ]
  },
  {
   "cell_type": "code",
   "execution_count": null,
   "metadata": {},
   "outputs": [
    {
     "data": {
      "text/plain": [
       "60"
      ]
     },
     "execution_count": 146,
     "metadata": {},
     "output_type": "execute_result"
    }
   ],
   "source": [
    "feature_extractor.get_max_text_length_in_words()"
   ]
  },
  {
   "cell_type": "code",
   "execution_count": null,
   "metadata": {},
   "outputs": [
    {
     "data": {
      "text/plain": [
       "(0.3041229281767956, 0.18407467204551348)"
      ]
     },
     "execution_count": 147,
     "metadata": {},
     "output_type": "execute_result"
    }
   ],
   "source": [
    "feature_extractor.get_duration_stats()"
   ]
  },
  {
   "cell_type": "code",
   "execution_count": null,
   "metadata": {},
   "outputs": [],
   "source": []
  }
 ],
 "metadata": {
  "kernelspec": {
   "display_name": "prosody",
   "language": "python",
   "name": "python3"
  },
  "language_info": {
   "codemirror_mode": {
    "name": "ipython",
    "version": 3
   },
   "file_extension": ".py",
   "mimetype": "text/x-python",
   "name": "python",
   "nbconvert_exporter": "python",
   "pygments_lexer": "ipython3",
   "version": "3.9.16"
  },
  "orig_nbformat": 4
 },
 "nbformat": 4,
 "nbformat_minor": 2
}
