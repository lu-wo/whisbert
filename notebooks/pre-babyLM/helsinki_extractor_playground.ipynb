{
 "cells": [
  {
   "cell_type": "code",
   "execution_count": 1,
   "metadata": {},
   "outputs": [
    {
     "name": "stderr",
     "output_type": "stream",
     "text": [
      "/opt/homebrew/Caskroom/miniforge/base/envs/prosody/lib/python3.9/site-packages/tqdm/auto.py:21: TqdmWarning: IProgress not found. Please update jupyter and ipywidgets. See https://ipywidgets.readthedocs.io/en/stable/user_install.html\n",
      "  from .autonotebook import tqdm as notebook_tqdm\n"
     ]
    }
   ],
   "source": [
    "from src.data.components.helsinki import HelsinkiProminenceExtractor\n",
    "\n",
    "import numpy as np"
   ]
  },
  {
   "cell_type": "code",
   "execution_count": 2,
   "metadata": {},
   "outputs": [],
   "source": [
    "root_dir = \"/Users/lukas/Desktop/projects/MIT/MIT_prosody/data/Helsinki\"\n",
    "filename = \"dev.txt\"\n",
    "\n",
    "helsinki = HelsinkiProminenceExtractor(root_dir, filename)"
   ]
  },
  {
   "cell_type": "code",
   "execution_count": 3,
   "metadata": {},
   "outputs": [],
   "source": [
    "all_texts = helsinki.get_all_texts()"
   ]
  },
  {
   "cell_type": "code",
   "execution_count": 17,
   "metadata": {},
   "outputs": [],
   "source": [
    "all_discrete_prominence = helsinki.get_all_discrete_prominence(classes=2)\n",
    "all_real_prominences = helsinki.get_all_real_prominence()"
   ]
  },
  {
   "attachments": {},
   "cell_type": "markdown",
   "metadata": {},
   "source": [
    "### Discrete Entropy"
   ]
  },
  {
   "cell_type": "code",
   "execution_count": 23,
   "metadata": {},
   "outputs": [
    {
     "name": "stdout",
     "output_type": "stream",
     "text": [
      "{0: 47529, 1: 51655}\n",
      "0.5207997257622197\n"
     ]
    }
   ],
   "source": [
    "flattened_discrete_prominence = [\n",
    "    item for sublist in all_discrete_prominence for item in sublist\n",
    "]\n",
    "unique, counts = np.unique(flattened_discrete_prominence, return_counts=True)\n",
    "print(dict(zip(unique, counts)))\n",
    "\n",
    "# print probability of prominence\n",
    "print(counts[1] / (counts[0] + counts[1]))"
   ]
  },
  {
   "cell_type": "code",
   "execution_count": 24,
   "metadata": {},
   "outputs": [
    {
     "data": {
      "text/plain": [
       "0.6922816736468088"
      ]
     },
     "execution_count": 24,
     "metadata": {},
     "output_type": "execute_result"
    }
   ],
   "source": [
    "# compute the empirical entropy over the prominence labels\n",
    "from scipy.stats import entropy\n",
    "\n",
    "entropy(\n",
    "    [\n",
    "        counts[0] / len(flattened_discrete_prominence),\n",
    "        counts[1] / len(flattened_discrete_prominence),\n",
    "    ]\n",
    ")"
   ]
  },
  {
   "attachments": {},
   "cell_type": "markdown",
   "metadata": {},
   "source": [
    "### Real Entropy"
   ]
  },
  {
   "cell_type": "code",
   "execution_count": 36,
   "metadata": {},
   "outputs": [
    {
     "name": "stdout",
     "output_type": "stream",
     "text": [
      "0.7312105884013551\n",
      "0.7908271423950076\n"
     ]
    }
   ],
   "source": [
    "flattened_real_prominence = [\n",
    "    item for sublist in all_real_prominences for item in sublist\n",
    "]\n",
    "print(np.mean(flattened_real_prominence))\n",
    "print(np.std(flattened_real_prominence))"
   ]
  },
  {
   "cell_type": "code",
   "execution_count": 39,
   "metadata": {},
   "outputs": [
    {
     "name": "stderr",
     "output_type": "stream",
     "text": [
      "/opt/homebrew/Caskroom/miniforge/base/envs/prosody/lib/python3.9/site-packages/scipy/stats/_entropy.py:352: RuntimeWarning: divide by zero encountered in log\n",
      "  logs = np.log(n/(2*m) * differences)\n"
     ]
    },
    {
     "data": {
      "text/plain": [
       "-inf"
      ]
     },
     "execution_count": 39,
     "metadata": {},
     "output_type": "execute_result"
    }
   ],
   "source": [
    "from scipy.stats import differential_entropy\n",
    "\n",
    "differential_entropy(flattened_real_prominence, method=\"auto\")"
   ]
  },
  {
   "cell_type": "code",
   "execution_count": 47,
   "metadata": {},
   "outputs": [
    {
     "data": {
      "text/plain": [
       "[<matplotlib.lines.Line2D at 0x29cb6af70>]"
      ]
     },
     "execution_count": 47,
     "metadata": {},
     "output_type": "execute_result"
    },
    {
     "data": {
      "image/png": "[encoded data removed]",
      "text/plain": [
       "<Figure size 640x480 with 1 Axes>"
      ]
     },
     "metadata": {},
     "output_type": "display_data"
    }
   ],
   "source": [
    "# compute kde of prominence values\n",
    "\n",
    "from scipy.stats import gaussian_kde\n",
    "\n",
    "kde = gaussian_kde(flattened_real_prominence)\n",
    "\n",
    "import matplotlib.pyplot as plt\n",
    "\n",
    "x = np.linspace(0, 1, 100)\n",
    "plt.plot(x, kde(x))"
   ]
  },
  {
   "cell_type": "code",
   "execution_count": null,
   "metadata": {},
   "outputs": [],
   "source": []
  }
 ],
 "metadata": {
  "kernelspec": {
   "display_name": "prosody",
   "language": "python",
   "name": "python3"
  },
  "language_info": {
   "codemirror_mode": {
    "name": "ipython",
    "version": 3
   },
   "file_extension": ".py",
   "mimetype": "text/x-python",
   "name": "python",
   "nbconvert_exporter": "python",
   "pygments_lexer": "ipython3",
   "version": "3.9.16"
  },
  "orig_nbformat": 4
 },
 "nbformat": 4,
 "nbformat_minor": 2
}
