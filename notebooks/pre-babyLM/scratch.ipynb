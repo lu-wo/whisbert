{
 "cells": [
  {
   "cell_type": "code",
   "execution_count": 1,
   "metadata": {},
   "outputs": [
    {
     "name": "stderr",
     "output_type": "stream",
     "text": [
      "/opt/homebrew/Caskroom/miniforge/base/envs/prosody/lib/python3.9/site-packages/tqdm/auto.py:21: TqdmWarning: IProgress not found. Please update jupyter and ipywidgets. See https://ipywidgets.readthedocs.io/en/stable/user_install.html\n",
      "  from .autonotebook import tqdm as notebook_tqdm\n"
     ]
    }
   ],
   "source": [
    "from src.utils.torch_metrics import MeanMetric\n",
    "import torch\n",
    "from torch import nn"
   ]
  },
  {
   "cell_type": "code",
   "execution_count": 2,
   "metadata": {},
   "outputs": [
    {
     "name": "stdout",
     "output_type": "stream",
     "text": [
      "tensor(20842.7793)\n",
      "tensor(20842.7793)\n"
     ]
    }
   ],
   "source": [
    "import torch\n",
    "from torch.nn import functional as F\n",
    "\n",
    "targets = torch.tensor([[0, 0], [500, 0], [0, 0]]).float()\n",
    "mu = torch.tensor([[0, 10], [0, 0], [0, 0]]).float()\n",
    "var = torch.tensor([[1, 1], [1, 1], [1, 10]]).float()\n",
    "std = torch.sqrt(var)  # standard deviation is the square root of variance\n",
    "mask = torch.tensor([[1, 1], [1, 1], [10000, 1]]).float()\n",
    "\n",
    "loss = nn.GaussianNLLLoss(full=True, reduction=\"none\")\n",
    "\n",
    "print(torch.mean(loss(mu, targets, var)))\n",
    "\n",
    "dist = torch.distributions.normal.Normal(mu, std)\n",
    "print(-torch.mean(dist.log_prob(targets)))"
   ]
  },
  {
   "cell_type": "code",
   "execution_count": 6,
   "metadata": {},
   "outputs": [
    {
     "data": {
      "text/plain": [
       "0.5488116360940264"
      ]
     },
     "execution_count": 6,
     "metadata": {},
     "output_type": "execute_result"
    }
   ],
   "source": [
    "import numpy as np\n",
    "\n",
    "np.exp(-0.6)"
   ]
  },
  {
   "cell_type": "code",
   "execution_count": 4,
   "metadata": {},
   "outputs": [],
   "source": [
    "# # plot gaussian density with mean 0 and variance 1\n",
    "\n",
    "# import matplotlib.pyplot as plt\n",
    "\n",
    "# import numpy as np\n",
    "\n",
    "# x = np.linspace(-10, 10, 1000)\n",
    "# y = 1 / np.sqrt(2 * np.pi * var) * np.exp(-x ** 2 / (2*var))\n",
    "\n",
    "# plt.plot(x, y)"
   ]
  },
  {
   "cell_type": "code",
   "execution_count": 5,
   "metadata": {},
   "outputs": [
    {
     "ename": "NameError",
     "evalue": "name 'predictions' is not defined",
     "output_type": "error",
     "traceback": [
      "\u001b[0;31m---------------------------------------------------------------------------\u001b[0m",
      "\u001b[0;31mNameError\u001b[0m                                 Traceback (most recent call last)",
      "Cell \u001b[0;32mIn[5], line 3\u001b[0m\n\u001b[1;32m      1\u001b[0m \u001b[39mfrom\u001b[39;00m \u001b[39mtorch\u001b[39;00m\u001b[39m.\u001b[39;00m\u001b[39mdistributions\u001b[39;00m \u001b[39mimport\u001b[39;00m Normal\n\u001b[0;32m----> 3\u001b[0m dist \u001b[39m=\u001b[39m Normal(loc\u001b[39m=\u001b[39mpredictions, scale\u001b[39m=\u001b[39mvar)\n\u001b[1;32m      5\u001b[0m \u001b[39m-\u001b[39mdist\u001b[39m.\u001b[39mlog_prob(targets), torch\u001b[39m.\u001b[39mexp(dist\u001b[39m.\u001b[39mlog_prob(targets))\n",
      "\u001b[0;31mNameError\u001b[0m: name 'predictions' is not defined"
     ]
    }
   ],
   "source": [
    "from torch.distributions import Normal\n",
    "\n",
    "dist = Normal(loc=predictions, scale=var)\n",
    "\n",
    "-dist.log_prob(targets), torch.exp(dist.log_prob(targets))"
   ]
  },
  {
   "cell_type": "code",
   "execution_count": null,
   "metadata": {},
   "outputs": [],
   "source": [
    "loss = torch.nn.GaussianNLLLoss()"
   ]
  },
  {
   "cell_type": "code",
   "execution_count": null,
   "metadata": {},
   "outputs": [],
   "source": [
    "mu = torch.tensor(\n",
    "    [\n",
    "        [\n",
    "            1.7604e-02,\n",
    "            1.7359e-01,\n",
    "            6.3603e-01,\n",
    "            1.5022e-01,\n",
    "            4.0068e-01,\n",
    "            3.5912e-01,\n",
    "            4.8714e-01,\n",
    "            -2.8076e-01,\n",
    "            6.8211e-02,\n",
    "            3.0234e-01,\n",
    "            2.1239e-01,\n",
    "            6.8537e-02,\n",
    "            -6.2811e-02,\n",
    "            1.7150e-02,\n",
    "            5.0222e-01,\n",
    "            -1.2695e-01,\n",
    "            -1.4538e-01,\n",
    "            1.0407e-01,\n",
    "            5.4534e-01,\n",
    "            2.1162e-01,\n",
    "            1.8576e-02,\n",
    "            -2.6375e-01,\n",
    "            1.8945e-02,\n",
    "            8.9501e-01,\n",
    "            -3.6512e-01,\n",
    "            2.5509e-01,\n",
    "            3.5006e-01,\n",
    "            -2.7684e-01,\n",
    "            -4.2377e-01,\n",
    "            -8.1217e-02,\n",
    "            -1.5434e-01,\n",
    "            1.0533e-02,\n",
    "            1.0786e-01,\n",
    "            5.0719e-01,\n",
    "            1.1514e-01,\n",
    "            -1.5498e-01,\n",
    "            2.1273e-01,\n",
    "            -3.7666e-01,\n",
    "            -2.7753e-01,\n",
    "            -7.2808e-02,\n",
    "            -4.7107e-01,\n",
    "            -6.9347e-01,\n",
    "            1.8154e-01,\n",
    "            2.1274e-01,\n",
    "            2.1274e-01,\n",
    "            2.1274e-01,\n",
    "            2.1274e-01,\n",
    "            2.1274e-01,\n",
    "            2.1274e-01,\n",
    "            2.1274e-01,\n",
    "            2.1274e-01,\n",
    "            2.1274e-01,\n",
    "            2.1274e-01,\n",
    "            2.1274e-01,\n",
    "            2.1274e-01,\n",
    "            2.1274e-01,\n",
    "            2.1274e-01,\n",
    "        ],\n",
    "        [\n",
    "            7.5295e-02,\n",
    "            4.9435e-01,\n",
    "            7.0299e-01,\n",
    "            6.4900e-01,\n",
    "            7.8799e-01,\n",
    "            5.7407e-01,\n",
    "            3.0230e-01,\n",
    "            -8.7138e-02,\n",
    "            1.5213e-02,\n",
    "            3.6158e-01,\n",
    "            -2.2438e-01,\n",
    "            3.8867e-03,\n",
    "            -1.0884e-02,\n",
    "            2.0366e-02,\n",
    "            1.3605e-01,\n",
    "            6.6372e-01,\n",
    "            4.7559e-01,\n",
    "            -4.3710e-02,\n",
    "            6.0453e-01,\n",
    "            4.6333e-01,\n",
    "            3.8875e-01,\n",
    "            -1.1572e-01,\n",
    "            4.2050e-04,\n",
    "            -1.3408e-01,\n",
    "            -1.6751e-01,\n",
    "            3.9214e-01,\n",
    "            4.7258e-01,\n",
    "            4.0710e-01,\n",
    "            -4.3595e-01,\n",
    "            -2.8455e-01,\n",
    "            -5.5439e-02,\n",
    "            3.3918e-02,\n",
    "            2.5666e-01,\n",
    "            -2.9256e-01,\n",
    "            4.3204e-01,\n",
    "            1.6321e-01,\n",
    "            5.4261e-01,\n",
    "            -1.8727e-01,\n",
    "            3.2985e-01,\n",
    "            2.3511e-01,\n",
    "            -2.1832e-01,\n",
    "            5.3958e-02,\n",
    "            2.3121e-01,\n",
    "            -1.0829e-01,\n",
    "            -8.5795e-02,\n",
    "            -1.3654e-01,\n",
    "            3.3584e-01,\n",
    "            1.9357e-01,\n",
    "            3.3098e-01,\n",
    "            3.4880e-01,\n",
    "            -1.2091e-01,\n",
    "            3.9106e-02,\n",
    "            -2.8622e-01,\n",
    "            -4.6101e-01,\n",
    "            -5.0288e-01,\n",
    "            2.1697e-01,\n",
    "            2.5595e-01,\n",
    "        ],\n",
    "    ]\n",
    ")\n",
    "\n",
    "var = torch.tensor(\n",
    "    [\n",
    "        [\n",
    "            0.1500,\n",
    "            0.2903,\n",
    "            0.3475,\n",
    "            0.3441,\n",
    "            0.3114,\n",
    "            0.2558,\n",
    "            0.2112,\n",
    "            0.1535,\n",
    "            0.1473,\n",
    "            0.2230,\n",
    "            0.1992,\n",
    "            0.1704,\n",
    "            0.1620,\n",
    "            0.2181,\n",
    "            0.2638,\n",
    "            0.1778,\n",
    "            0.1871,\n",
    "            0.1465,\n",
    "            0.2743,\n",
    "            0.3341,\n",
    "            0.1271,\n",
    "            0.1155,\n",
    "            0.2642,\n",
    "            0.5321,\n",
    "            0.2473,\n",
    "            0.2736,\n",
    "            0.1679,\n",
    "            0.1662,\n",
    "            0.1201,\n",
    "            0.1110,\n",
    "            0.1392,\n",
    "            0.2295,\n",
    "            0.3815,\n",
    "            0.2813,\n",
    "            0.1689,\n",
    "            0.2155,\n",
    "            0.2718,\n",
    "            0.1512,\n",
    "            0.1582,\n",
    "            0.1571,\n",
    "            0.1360,\n",
    "            0.0923,\n",
    "            0.1205,\n",
    "            0.1245,\n",
    "            0.1245,\n",
    "            0.1245,\n",
    "            0.1245,\n",
    "            0.1245,\n",
    "            0.1245,\n",
    "            0.1245,\n",
    "            0.1245,\n",
    "            0.1245,\n",
    "            0.1245,\n",
    "            0.1245,\n",
    "            0.1245,\n",
    "            0.1245,\n",
    "            0.1245,\n",
    "        ],\n",
    "        [\n",
    "            0.1586,\n",
    "            0.3632,\n",
    "            0.3764,\n",
    "            0.4240,\n",
    "            0.3680,\n",
    "            0.1804,\n",
    "            0.2237,\n",
    "            0.1131,\n",
    "            0.1708,\n",
    "            0.1916,\n",
    "            0.1375,\n",
    "            0.1608,\n",
    "            0.1215,\n",
    "            0.1782,\n",
    "            0.2737,\n",
    "            0.4347,\n",
    "            0.4790,\n",
    "            0.3427,\n",
    "            0.2671,\n",
    "            0.2350,\n",
    "            0.1992,\n",
    "            0.1538,\n",
    "            0.1458,\n",
    "            0.1568,\n",
    "            0.2207,\n",
    "            0.2057,\n",
    "            0.2213,\n",
    "            0.3309,\n",
    "            0.1433,\n",
    "            0.0978,\n",
    "            0.2204,\n",
    "            0.3157,\n",
    "            0.2348,\n",
    "            0.1951,\n",
    "            0.2491,\n",
    "            0.2811,\n",
    "            0.3277,\n",
    "            0.2536,\n",
    "            0.2547,\n",
    "            0.1706,\n",
    "            0.1725,\n",
    "            0.1681,\n",
    "            0.2481,\n",
    "            0.1256,\n",
    "            0.1357,\n",
    "            0.1646,\n",
    "            0.3292,\n",
    "            0.1755,\n",
    "            0.2661,\n",
    "            0.1855,\n",
    "            0.1780,\n",
    "            0.1337,\n",
    "            0.1218,\n",
    "            0.1686,\n",
    "            0.0816,\n",
    "            0.1302,\n",
    "            0.1347,\n",
    "        ],\n",
    "    ]\n",
    ")\n",
    "\n",
    "targets = torch.tensor(\n",
    "    [\n",
    "        [\n",
    "            -9.9900e02,\n",
    "            4.7101e-01,\n",
    "            1.0729e00,\n",
    "            -3.8079e-01,\n",
    "            1.3405e00,\n",
    "            1.8668e-01,\n",
    "            9.6243e-01,\n",
    "            -3.4365e-01,\n",
    "            6.2183e-01,\n",
    "            2.3914e-01,\n",
    "            5.7276e-01,\n",
    "            3.5076e-01,\n",
    "            -6.7690e-02,\n",
    "            1.5604e-01,\n",
    "            2.4213e00,\n",
    "            -1.5674e-01,\n",
    "            -2.2294e-01,\n",
    "            -3.7468e-02,\n",
    "            1.0987e00,\n",
    "            -1.4202e-01,\n",
    "            -3.4197e-01,\n",
    "            -2.1914e-01,\n",
    "            -7.0828e-01,\n",
    "            9.1338e-01,\n",
    "            -3.2233e-01,\n",
    "            -9.9900e02,\n",
    "            3.9544e-01,\n",
    "            -2.3746e-01,\n",
    "            -3.5496e-01,\n",
    "            -1.5496e-01,\n",
    "            1.7460e-02,\n",
    "            -4.0244e-01,\n",
    "            4.6050e-02,\n",
    "            2.2583e-01,\n",
    "            2.6368e-01,\n",
    "            -3.6723e-01,\n",
    "            1.9792e-01,\n",
    "            -6.7505e-01,\n",
    "            -4.2143e-02,\n",
    "            -2.3379e-01,\n",
    "            -4.9039e-01,\n",
    "            -6.8261e-01,\n",
    "            -9.9900e02,\n",
    "            -9.9900e02,\n",
    "            -1.0000e00,\n",
    "            -1.0000e00,\n",
    "            -1.0000e00,\n",
    "            -1.0000e00,\n",
    "            -1.0000e00,\n",
    "            -1.0000e00,\n",
    "            -1.0000e00,\n",
    "            -1.0000e00,\n",
    "            -1.0000e00,\n",
    "            -1.0000e00,\n",
    "            -1.0000e00,\n",
    "            -1.0000e00,\n",
    "            -1.0000e00,\n",
    "        ],\n",
    "        [\n",
    "            -9.9900e02,\n",
    "            -5.3742e-01,\n",
    "            1.9537e00,\n",
    "            8.9275e-01,\n",
    "            -9.9900e02,\n",
    "            1.7404e-01,\n",
    "            -9.9900e02,\n",
    "            1.0557e-01,\n",
    "            -9.9900e02,\n",
    "            1.2379e-01,\n",
    "            4.3025e-01,\n",
    "            -9.9900e02,\n",
    "            -3.2597e-01,\n",
    "            -9.9900e02,\n",
    "            1.0324e00,\n",
    "            -9.9900e02,\n",
    "            1.2847e00,\n",
    "            -4.5373e-01,\n",
    "            3.8757e-01,\n",
    "            -9.9900e02,\n",
    "            1.0230e00,\n",
    "            -2.3800e-01,\n",
    "            2.1436e-01,\n",
    "            -9.9900e02,\n",
    "            -6.6560e-01,\n",
    "            3.9428e-01,\n",
    "            6.1765e-01,\n",
    "            3.0629e-01,\n",
    "            -7.9338e-01,\n",
    "            -2.6412e-01,\n",
    "            -9.9900e02,\n",
    "            -3.5025e-01,\n",
    "            -6.6849e-02,\n",
    "            -1.3631e-01,\n",
    "            2.6086e-01,\n",
    "            -3.4821e-01,\n",
    "            1.6405e-01,\n",
    "            1.0554e-01,\n",
    "            -9.9900e02,\n",
    "            7.5656e-01,\n",
    "            -7.8656e-01,\n",
    "            4.0917e-01,\n",
    "            5.3420e-01,\n",
    "            2.9398e-01,\n",
    "            -3.3278e-01,\n",
    "            -9.9900e02,\n",
    "            1.6124e-02,\n",
    "            -3.4864e-01,\n",
    "            -9.9900e02,\n",
    "            -3.0867e-02,\n",
    "            1.2950e-01,\n",
    "            1.9338e-01,\n",
    "            -2.8217e-01,\n",
    "            -1.3250e-01,\n",
    "            -4.4985e-01,\n",
    "            -9.9900e02,\n",
    "            -9.9900e02,\n",
    "        ],\n",
    "    ]\n",
    ")\n",
    "\n",
    "mask = torch.tensor(\n",
    "    [\n",
    "        [\n",
    "            0,\n",
    "            1,\n",
    "            1,\n",
    "            1,\n",
    "            1,\n",
    "            1,\n",
    "            1,\n",
    "            1,\n",
    "            1,\n",
    "            1,\n",
    "            1,\n",
    "            1,\n",
    "            1,\n",
    "            1,\n",
    "            1,\n",
    "            1,\n",
    "            1,\n",
    "            1,\n",
    "            1,\n",
    "            1,\n",
    "            1,\n",
    "            1,\n",
    "            1,\n",
    "            1,\n",
    "            1,\n",
    "            0,\n",
    "            1,\n",
    "            1,\n",
    "            1,\n",
    "            1,\n",
    "            1,\n",
    "            1,\n",
    "            1,\n",
    "            1,\n",
    "            1,\n",
    "            1,\n",
    "            1,\n",
    "            1,\n",
    "            1,\n",
    "            1,\n",
    "            1,\n",
    "            1,\n",
    "            0,\n",
    "            0,\n",
    "            0,\n",
    "            0,\n",
    "            0,\n",
    "            0,\n",
    "            0,\n",
    "            0,\n",
    "            0,\n",
    "            0,\n",
    "            0,\n",
    "            0,\n",
    "            0,\n",
    "            0,\n",
    "            0,\n",
    "        ],\n",
    "        [\n",
    "            0,\n",
    "            1,\n",
    "            1,\n",
    "            1,\n",
    "            0,\n",
    "            1,\n",
    "            0,\n",
    "            1,\n",
    "            0,\n",
    "            1,\n",
    "            1,\n",
    "            0,\n",
    "            1,\n",
    "            0,\n",
    "            1,\n",
    "            0,\n",
    "            1,\n",
    "            1,\n",
    "            1,\n",
    "            0,\n",
    "            1,\n",
    "            1,\n",
    "            1,\n",
    "            0,\n",
    "            1,\n",
    "            1,\n",
    "            1,\n",
    "            1,\n",
    "            1,\n",
    "            1,\n",
    "            0,\n",
    "            1,\n",
    "            1,\n",
    "            1,\n",
    "            1,\n",
    "            1,\n",
    "            1,\n",
    "            1,\n",
    "            0,\n",
    "            1,\n",
    "            1,\n",
    "            1,\n",
    "            1,\n",
    "            1,\n",
    "            1,\n",
    "            0,\n",
    "            1,\n",
    "            1,\n",
    "            0,\n",
    "            1,\n",
    "            1,\n",
    "            1,\n",
    "            1,\n",
    "            1,\n",
    "            1,\n",
    "            0,\n",
    "            0,\n",
    "        ],\n",
    "    ]\n",
    ")"
   ]
  },
  {
   "cell_type": "code",
   "execution_count": null,
   "metadata": {},
   "outputs": [
    {
     "name": "stdout",
     "output_type": "stream",
     "text": [
      "mu = 0.3591200113296509, var = 0.2558000087738037, mask = 1.0, target = 0.18668000400066376\n"
     ]
    }
   ],
   "source": [
    "my_mu = float(mu[0][5])\n",
    "my_var = float(var[0][5])\n",
    "my_mask = float(mask[0][5])\n",
    "my_target = targets[0][5]\n",
    "\n",
    "print(f\"mu = {my_mu}, var = {my_var}, mask = {my_mask}, target = {my_target}\")"
   ]
  },
  {
   "cell_type": "code",
   "execution_count": null,
   "metadata": {},
   "outputs": [
    {
     "data": {
      "text/plain": [
       "tensor(0.2172)"
      ]
     },
     "execution_count": 170,
     "metadata": {},
     "output_type": "execute_result"
    }
   ],
   "source": [
    "from torch.distributions import Normal\n",
    "\n",
    "my_dist = Normal(my_mu, my_var)\n",
    "\n",
    "my_dist.log_prob(my_target)"
   ]
  },
  {
   "cell_type": "code",
   "execution_count": null,
   "metadata": {},
   "outputs": [
    {
     "data": {
      "text/plain": [
       "tensor(0.9243)"
      ]
     },
     "execution_count": 171,
     "metadata": {},
     "output_type": "execute_result"
    }
   ],
   "source": [
    "masked_GNLLL(\n",
    "    torch.tensor([my_mu]),\n",
    "    torch.tensor([my_var]),\n",
    "    torch.tensor([my_mask]),\n",
    "    torch.tensor([my_target]),\n",
    ")"
   ]
  },
  {
   "cell_type": "code",
   "execution_count": null,
   "metadata": {},
   "outputs": [],
   "source": [
    "from src.utils.torch_utils import masked_GNLLL\n",
    "\n",
    "loss = masked_GNLLL(mu, targets, var, mask)"
   ]
  },
  {
   "attachments": {},
   "cell_type": "markdown",
   "metadata": {},
   "source": [
    "## Calculate the lower bounds "
   ]
  },
  {
   "cell_type": "code",
   "execution_count": 4,
   "metadata": {},
   "outputs": [
    {
     "name": "stdout",
     "output_type": "stream",
     "text": [
      "Prominence: -2.3025850929940455, Energy: -2.3025850929940455, Pitch: -2.3025850929940455, Duration: -4.605170185988091, Pause: -4.605170185988091\n"
     ]
    }
   ],
   "source": [
    "import numpy as np\n",
    "\n",
    "# significant intervals\n",
    "prominence = 0.1\n",
    "energy = 0.1\n",
    "pitch = 0.1\n",
    "duration = 0.01\n",
    "pause = 0.01\n",
    "intervals = [prominence, energy, pitch, duration, pause]\n",
    "\n",
    "# compute entropies over uniform distributions\n",
    "entropies = [np.log(interval) for interval in intervals]\n",
    "\n",
    "print(\n",
    "    f\"Prominence: {entropies[0]}, Energy: {entropies[1]}, Pitch: {entropies[2]}, Duration: {entropies[3]}, Pause: {entropies[4]}\"\n",
    ")"
   ]
  },
  {
   "cell_type": "code",
   "execution_count": 18,
   "metadata": {},
   "outputs": [],
   "source": [
    "import pickle\n",
    "\n",
    "path = \"/Users/lukas/Desktop/projects/MIT/data/cache/dev-clean/pauses\"\n",
    "\n",
    "with open(path, \"rb\") as f:\n",
    "    pauses = pickle.load(f)[\"pauses\"]"
   ]
  },
  {
   "cell_type": "code",
   "execution_count": 19,
   "metadata": {},
   "outputs": [
    {
     "data": {
      "text/plain": [
       "[[0.0,\n",
       "  0.0,\n",
       "  0.18,\n",
       "  0.0,\n",
       "  0.0,\n",
       "  0.0,\n",
       "  0.0,\n",
       "  0.0,\n",
       "  0.0,\n",
       "  0.38,\n",
       "  0.0,\n",
       "  0.0,\n",
       "  0.0,\n",
       "  0.0,\n",
       "  0.0,\n",
       "  0.0,\n",
       "  0.0,\n",
       "  0.0,\n",
       "  0.0],\n",
       " [0.0,\n",
       "  0.0,\n",
       "  0.0,\n",
       "  0.0,\n",
       "  0.0,\n",
       "  0.44,\n",
       "  0.0,\n",
       "  0.0,\n",
       "  0.0,\n",
       "  0.0,\n",
       "  0.0,\n",
       "  0.0,\n",
       "  0.0,\n",
       "  0.0,\n",
       "  0.0,\n",
       "  0.23,\n",
       "  0.0,\n",
       "  0.0,\n",
       "  0.0,\n",
       "  0.0,\n",
       "  0.0,\n",
       "  0.0,\n",
       "  0.0,\n",
       "  0.6,\n",
       "  0.0,\n",
       "  0.0,\n",
       "  0.0,\n",
       "  0.0,\n",
       "  0.0]]"
      ]
     },
     "execution_count": 19,
     "metadata": {},
     "output_type": "execute_result"
    }
   ],
   "source": [
    "pauses[:2]"
   ]
  },
  {
   "cell_type": "code",
   "execution_count": 20,
   "metadata": {},
   "outputs": [],
   "source": [
    "# milliseconds\n",
    "\n",
    "pauses = [[p * 1000 for p in pause] for pause in pauses]"
   ]
  },
  {
   "cell_type": "code",
   "execution_count": 8,
   "metadata": {},
   "outputs": [],
   "source": [
    "# mi = - 0.5 log(1-r^2)\n",
    "\n",
    "\n",
    "def r2_to_mi(r2):\n",
    "    # if Gaussian then mi = - 0.5 log(1-r^2)\n",
    "    return -0.5 * np.log(1 - r2)"
   ]
  },
  {
   "cell_type": "code",
   "execution_count": 9,
   "metadata": {},
   "outputs": [
    {
     "data": {
      "text/plain": [
       "0.2971036163525208"
      ]
     },
     "execution_count": 9,
     "metadata": {},
     "output_type": "execute_result"
    }
   ],
   "source": [
    "r2_to_mi(0.448)"
   ]
  },
  {
   "cell_type": "code",
   "execution_count": 6,
   "metadata": {},
   "outputs": [
    {
     "data": {
      "text/plain": [
       "0.20473656475285165"
      ]
     },
     "execution_count": 6,
     "metadata": {},
     "output_type": "execute_result"
    }
   ],
   "source": [
    "r2_to_mi(0.336)"
   ]
  },
  {
   "cell_type": "code",
   "execution_count": 2,
   "metadata": {},
   "outputs": [
    {
     "data": {
      "text/plain": [
       "-6.907755278982137"
      ]
     },
     "execution_count": 2,
     "metadata": {},
     "output_type": "execute_result"
    }
   ],
   "source": [
    "import numpy as np\n",
    "\n",
    "np.log(0.001)"
   ]
  },
  {
   "cell_type": "code",
   "execution_count": 43,
   "metadata": {},
   "outputs": [],
   "source": [
    "from torch.distributions.gamma import Gamma\n",
    "import torch\n",
    "\n",
    "concentration = torch.tensor([2])  # shape, or alpha\n",
    "rate = torch.tensor(1)  # rate = 1 / scale, or beta\n",
    "\n",
    "dist = Gamma(concentration, rate)"
   ]
  },
  {
   "cell_type": "code",
   "execution_count": 49,
   "metadata": {},
   "outputs": [
    {
     "data": {
      "text/plain": [
       "tensor([1.])"
      ]
     },
     "execution_count": 49,
     "metadata": {},
     "output_type": "execute_result"
    }
   ],
   "source": [
    "-dist.log_prob(torch.tensor(1.0))"
   ]
  },
  {
   "cell_type": "code",
   "execution_count": 50,
   "metadata": {},
   "outputs": [
    {
     "data": {
      "text/plain": [
       "tensor([2.])"
      ]
     },
     "execution_count": 50,
     "metadata": {},
     "output_type": "execute_result"
    }
   ],
   "source": [
    "dist.mean"
   ]
  },
  {
   "cell_type": "code",
   "execution_count": 51,
   "metadata": {},
   "outputs": [
    {
     "data": {
      "text/plain": [
       "tensor([1.])"
      ]
     },
     "execution_count": 51,
     "metadata": {},
     "output_type": "execute_result"
    }
   ],
   "source": [
    "dist.mode"
   ]
  },
  {
   "cell_type": "code",
   "execution_count": 38,
   "metadata": {},
   "outputs": [
    {
     "data": {
      "text/plain": [
       "1.2729656758128873"
      ]
     },
     "execution_count": 38,
     "metadata": {},
     "output_type": "execute_result"
    }
   ],
   "source": [
    "-np.log(0.28)"
   ]
  },
  {
   "cell_type": "code",
   "execution_count": null,
   "metadata": {},
   "outputs": [],
   "source": []
  }
 ],
 "metadata": {
  "kernelspec": {
   "display_name": "prosody",
   "language": "python",
   "name": "python3"
  },
  "language_info": {
   "codemirror_mode": {
    "name": "ipython",
    "version": 3
   },
   "file_extension": ".py",
   "mimetype": "text/x-python",
   "name": "python",
   "nbconvert_exporter": "python",
   "pygments_lexer": "ipython3",
   "version": "3.9.16"
  },
  "orig_nbformat": 4
 },
 "nbformat": 4,
 "nbformat_minor": 2
}
