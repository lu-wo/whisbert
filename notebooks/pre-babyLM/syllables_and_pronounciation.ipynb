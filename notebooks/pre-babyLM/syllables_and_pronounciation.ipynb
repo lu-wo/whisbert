{
 "cells": [
  {
   "attachments": {},
   "cell_type": "markdown",
   "metadata": {},
   "source": [
    "### Get stress syllable from CELEX and Phoneme alignment "
   ]
  },
  {
   "cell_type": "code",
   "execution_count": 31,
   "metadata": {},
   "outputs": [],
   "source": [
    "from src.utils.text_processing import CelexReader"
   ]
  },
  {
   "cell_type": "code",
   "execution_count": 32,
   "metadata": {},
   "outputs": [],
   "source": [
    "celex_path = \"/Users/lukas/Desktop/projects/MIT/data/celex/celex.txt\""
   ]
  },
  {
   "cell_type": "code",
   "execution_count": 33,
   "metadata": {},
   "outputs": [],
   "source": [
    "reader = CelexReader(celex_path)"
   ]
  },
  {
   "cell_type": "code",
   "execution_count": 35,
   "metadata": {},
   "outputs": [
    {
     "data": {
      "text/plain": [
       "'@-b{n-d@n'"
      ]
     },
     "execution_count": 35,
     "metadata": {},
     "output_type": "execute_result"
    }
   ],
   "source": [
    "reader.get_phonetic_syllable(\"abandon\")"
   ]
  },
  {
   "cell_type": "code",
   "execution_count": 118,
   "metadata": {},
   "outputs": [
    {
     "data": {
      "text/plain": [
       "'1000'"
      ]
     },
     "execution_count": 118,
     "metadata": {},
     "output_type": "execute_result"
    }
   ],
   "source": [
    "reader.get_stress_syllable(\"generally\")"
   ]
  },
  {
   "cell_type": "code",
   "execution_count": 119,
   "metadata": {},
   "outputs": [
    {
     "data": {
      "text/plain": [
       "0"
      ]
     },
     "execution_count": 119,
     "metadata": {},
     "output_type": "execute_result"
    }
   ],
   "source": [
    "reader.get_stress_index(\"generally\")"
   ]
  },
  {
   "cell_type": "code",
   "execution_count": 132,
   "metadata": {},
   "outputs": [
    {
     "data": {
      "text/plain": [
       "['KAY1', 'ZER0']"
      ]
     },
     "execution_count": 132,
     "metadata": {},
     "output_type": "execute_result"
    }
   ],
   "source": [
    "from src.utils.text_processing import syllabify\n",
    "\n",
    "syllabify(\"kaiser\")"
   ]
  },
  {
   "cell_type": "code",
   "execution_count": 134,
   "metadata": {},
   "outputs": [
    {
     "name": "stdout",
     "output_type": "stream",
     "text": [
      "[[0.0, 0.14, 'IH1'], [0.14, 0.22, 'N'], [0.22, 0.3, 'JH'], [0.3, 0.42, 'ER1'], [0.42, 0.48, 'M'], [0.48, 0.52, 'AH0'], [0.52, 0.57, 'N'], [0.57, 0.82, 'IY0'], [0.82, 0.85, 'sp'], [0.85, 1.0, 'DH'], [1.0, 1.15, 'EY1'], [1.15, 1.25, 'JH'], [1.25, 1.32, 'EH1'], [1.32, 1.4, 'N'], [1.4, 1.44, 'R'], [1.44, 1.49, 'AH0'], [1.49, 1.58, 'L'], [1.58, 1.81, 'IY0'], [1.81, 1.95, 'sp'], [1.95, 2.06, 'HH'], [2.06, 2.16, 'AA1'], [2.16, 2.35, 'K'], [2.35, 2.38, 'sp'], [2.38, 2.48, 'DH'], [2.48, 2.54, 'AH0'], [2.54, 2.67, 'K'], [2.67, 2.82, 'AY1'], [2.82, 2.95, 'Z'], [2.95, 3.12, 'ER0'], [3.12, 3.22, 'sp'], [3.22, 3.24]]\n",
      "phoneme lab lines [(2.54, 2.67, 'K'), (2.67, 2.82, 'AY1'), (2.82, 2.95, 'Z'), (2.95, 3.12, 'ER0'), (3.12, 3.22, 'sp')]\n",
      "Syllables: ['KAY1', 'ZER0']\n",
      "stress syllable: KAY1 at index 0\n",
      "2.54 2.67 K\n",
      "2.67 2.82 AY1\n",
      "2.82 2.95 Z\n",
      "2.95 3.12 ER0\n",
      "3.12 3.22 sp\n"
     ]
    },
    {
     "data": {
      "text/plain": [
       "2.54"
      ]
     },
     "execution_count": 134,
     "metadata": {},
     "output_type": "execute_result"
    }
   ],
   "source": [
    "from src.utils.text_processing import read_lab_file, extract_phonemes\n",
    "\n",
    "phoneme_path = \"/Users/lukas/Desktop/projects/MIT/data/LibriTTSCorpusLabel/debug_phoneme/121_121726_000029_000003.lab\"\n",
    "\n",
    "lab_lines = read_lab_file(phoneme_path)\n",
    "print(lab_lines)\n",
    "\n",
    "# word_phoneme_data = extract_phonemes(lab_lines, [\"PAA1\", \"PYAH0\", \"LER0\"], 0.9, 1.45)\n",
    "# word_phoneme_data\n",
    "\n",
    "from src.utils.text_processing import find_stress_syllable_start\n",
    "\n",
    "syllables = [\"KAY1\", \"ZER0\"]\n",
    "\n",
    "stress_start = find_stress_syllable_start(\n",
    "    syllables=syllables,\n",
    "    stress_index=0,\n",
    "    phoneme_lab_lines=lab_lines,\n",
    "    word_start=2.54,\n",
    "    word_end=3.24,\n",
    ")\n",
    "stress_start"
   ]
  },
  {
   "cell_type": "code",
   "execution_count": 130,
   "metadata": {},
   "outputs": [
    {
     "data": {
      "text/plain": [
       "True"
      ]
     },
     "execution_count": 130,
     "metadata": {},
     "output_type": "execute_result"
    }
   ],
   "source": [
    "stress_start == None"
   ]
  },
  {
   "cell_type": "code",
   "execution_count": null,
   "metadata": {},
   "outputs": [],
   "source": []
  }
 ],
 "metadata": {
  "kernelspec": {
   "display_name": "prosody",
   "language": "python",
   "name": "python3"
  },
  "language_info": {
   "codemirror_mode": {
    "name": "ipython",
    "version": 3
   },
   "file_extension": ".py",
   "mimetype": "text/x-python",
   "name": "python",
   "nbconvert_exporter": "python",
   "pygments_lexer": "ipython3",
   "version": "3.9.16"
  },
  "orig_nbformat": 4
 },
 "nbformat": 4,
 "nbformat_minor": 2
}
