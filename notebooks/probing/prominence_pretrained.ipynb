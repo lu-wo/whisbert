{
 "cells": [
  {
   "cell_type": "code",
   "execution_count": 1,
   "metadata": {},
   "outputs": [
    {
     "name": "stderr",
     "output_type": "stream",
     "text": [
      "/opt/homebrew/Caskroom/miniforge/base/envs/prosody/lib/python3.9/site-packages/tqdm/auto.py:21: TqdmWarning: IProgress not found. Please update jupyter and ipywidgets. See https://ipywidgets.readthedocs.io/en/stable/user_install.html\n",
      "  from .autonotebook import tqdm as notebook_tqdm\n"
     ]
    }
   ],
   "source": [
    "import numpy as np\n",
    "import os\n",
    "from scipy.stats import pearsonr, spearmanr\n",
    "from sklearn.metrics import r2_score\n",
    "from scipy.stats import entropy as shannon_entropy\n",
    "import matplotlib.pyplot as plt\n",
    "\n",
    "\n",
    "from src.data.components.helsinki import HelsinkiProminenceExtractor\n",
    "from src.data.components.datasets import TokenTaggingDataset\n",
    "from torch.utils.data import DataLoader"
   ]
  },
  {
   "cell_type": "code",
   "execution_count": 2,
   "metadata": {},
   "outputs": [],
   "source": [
    "DATA_DIR = \"/Users/lukas/Desktop/projects/MIT/MIT_prosody/data/Helsinki\"\n",
    "SAVE_DIR = (\n",
    "    \"/Users/lukas/Desktop/projects/MIT/MIT_prosody/precomputed/predictions/relative\"\n",
    ")"
   ]
  },
  {
   "cell_type": "code",
   "execution_count": 3,
   "metadata": {},
   "outputs": [
    {
     "name": "stdout",
     "output_type": "stream",
     "text": [
      "train_texts: 116263, test_texts: 4822\n"
     ]
    }
   ],
   "source": [
    "train_extractor = HelsinkiProminenceExtractor(\n",
    "    DATA_DIR,\n",
    "    \"train_360.txt\",\n",
    ")\n",
    "train_texts = train_extractor.get_all_texts()\n",
    "train_prominences = train_extractor.get_all_real_prominence()\n",
    "\n",
    "test_extractor = HelsinkiProminenceExtractor(\n",
    "    DATA_DIR,\n",
    "    \"test.txt\",\n",
    ")\n",
    "test_texts = test_extractor.get_all_texts()\n",
    "test_prominences = test_extractor.get_all_real_prominence()\n",
    "\n",
    "print(f\"train_texts: {len(train_texts)}, test_texts: {len(test_texts)}\")"
   ]
  },
  {
   "cell_type": "code",
   "execution_count": 4,
   "metadata": {},
   "outputs": [
    {
     "data": {
      "text/plain": [
       "(0.7272557007744903, 0.7953191125178041)"
      ]
     },
     "execution_count": 4,
     "metadata": {},
     "output_type": "execute_result"
    }
   ],
   "source": [
    "train_prominences_flat = [item for sublist in train_prominences for item in sublist]\n",
    "np.mean(train_prominences_flat), np.std(train_prominences_flat)"
   ]
  },
  {
   "cell_type": "code",
   "execution_count": 5,
   "metadata": {},
   "outputs": [
    {
     "data": {
      "image/png": "[encoded data removed]",
      "text/plain": [
       "<Figure size 640x480 with 1 Axes>"
      ]
     },
     "metadata": {},
     "output_type": "display_data"
    }
   ],
   "source": [
    "# kernel density estimation\n",
    "from scipy.stats import gaussian_kde\n",
    "\n",
    "density = gaussian_kde(train_prominences_flat)\n",
    "\n",
    "# plot density\n",
    "xs = np.linspace(0, 10, 100)\n",
    "plt.plot(xs, density(xs))\n",
    "plt.show()"
   ]
  },
  {
   "cell_type": "code",
   "execution_count": 6,
   "metadata": {},
   "outputs": [],
   "source": [
    "def mc_entropy(density, samples, nb_samples):\n",
    "    \"\"\"Monte Carlo estimation of entropy.\"\"\"\n",
    "    samples = np.random.choice(samples, nb_samples)\n",
    "    return -np.mean(np.log(density(samples)))"
   ]
  },
  {
   "cell_type": "code",
   "execution_count": 7,
   "metadata": {},
   "outputs": [
    {
     "name": "stdout",
     "output_type": "stream",
     "text": [
      "Monte Carlo entropy estimate: 0.6569407171032515\n"
     ]
    }
   ],
   "source": [
    "NB_SAMPLES = 10000\n",
    "\n",
    "entropy = mc_entropy(density, train_prominences_flat, NB_SAMPLES)\n",
    "print(f\"Monte Carlo entropy estimate: {entropy}\")"
   ]
  },
  {
   "cell_type": "code",
   "execution_count": null,
   "metadata": {},
   "outputs": [],
   "source": []
  },
  {
   "cell_type": "code",
   "execution_count": null,
   "metadata": {},
   "outputs": [],
   "source": []
  }
 ],
 "metadata": {
  "kernelspec": {
   "display_name": "prosody",
   "language": "python",
   "name": "python3"
  },
  "language_info": {
   "codemirror_mode": {
    "name": "ipython",
    "version": 3
   },
   "file_extension": ".py",
   "mimetype": "text/x-python",
   "name": "python",
   "nbconvert_exporter": "python",
   "pygments_lexer": "ipython3",
   "version": "3.9.16"
  },
  "orig_nbformat": 4
 },
 "nbformat": 4,
 "nbformat_minor": 2
}
