{
 "cells": [
  {
   "cell_type": "code",
   "execution_count": 2,
   "metadata": {},
   "outputs": [],
   "source": [
    "import os\n",
    "import argparse\n",
    "\n",
    "from tokenizers import (\n",
    "    ByteLevelBPETokenizer,\n",
    "    Tokenizer,\n",
    "    models,\n",
    "    trainers,\n",
    ")\n",
    "\n",
    "## importing the tokenizer and subword BPE trainer\n",
    "from tokenizers import Tokenizer\n",
    "from tokenizers.models import BPE, Unigram, WordLevel, WordPiece\n",
    "from tokenizers.trainers import (\n",
    "    BpeTrainer,\n",
    "    WordLevelTrainer,\n",
    "    WordPieceTrainer,\n",
    "    UnigramTrainer,\n",
    ")\n",
    "\n",
    "## a pretokenizer to segment the text into words\n",
    "from tokenizers.pre_tokenizers import Whitespace"
   ]
  },
  {
   "cell_type": "code",
   "execution_count": 3,
   "metadata": {},
   "outputs": [],
   "source": [
    "datasets = [\n",
    "    \"aochildes\",\n",
    "    \"bnc_spoken\",\n",
    "    \"cbt\",\n",
    "    \"children_stories\",\n",
    "    \"gutenberg\",\n",
    "    \"open_subtitles\",\n",
    "    \"qed\",\n",
    "    \"simple_wikipedia\",\n",
    "    \"switchboard\",\n",
    "    \"wikipedia\",\n",
    "]"
   ]
  },
  {
   "cell_type": "code",
   "execution_count": 44,
   "metadata": {},
   "outputs": [],
   "source": [
    "args = dict()\n",
    "args[\n",
    "    \"data_root\"\n",
    "] = \"/Users/lukas/Desktop/Projects/BabyLM/BabyLMChallenge/data/babylm_data\"\n",
    "args[\"train_dir\"] = \"babylm_100M\"\n",
    "args[\"dev_dir\"] = \"babylm_dev\"\n",
    "args[\"test_dir\"] = \"babylm_test\""
   ]
  },
  {
   "cell_type": "code",
   "execution_count": 45,
   "metadata": {},
   "outputs": [],
   "source": [
    "class dotdict(dict):\n",
    "    \"\"\"dot.notation access to dictionary attributes\"\"\"\n",
    "\n",
    "    __getattr__ = dict.get\n",
    "    __setattr__ = dict.__setitem__\n",
    "    __delattr__ = dict.__delitem__\n",
    "\n",
    "\n",
    "args = dotdict(args)"
   ]
  },
  {
   "cell_type": "code",
   "execution_count": 48,
   "metadata": {},
   "outputs": [],
   "source": [
    "# Define the directories for train, dev, and test\n",
    "data_root = args.data_root\n",
    "train_dir = os.path.join(data_root, args.train_dir)\n",
    "dev_dir = os.path.join(data_root, args.dev_dir)\n",
    "test_dir = os.path.join(data_root, args.test_dir)\n",
    "\n",
    "# Accumulate file paths for all datasets and splits\n",
    "files = []\n",
    "for dataset in datasets:\n",
    "    train_file = os.path.join(train_dir, f\"{dataset}.train\")\n",
    "    dev_file = os.path.join(dev_dir, f\"{dataset}.dev\")\n",
    "    test_file = os.path.join(test_dir, f\"{dataset}.test\")\n",
    "    files.extend([train_file, dev_file, test_file])"
   ]
  },
  {
   "cell_type": "code",
   "execution_count": 49,
   "metadata": {},
   "outputs": [],
   "source": [
    "# load all texts from files into a list\n",
    "\n",
    "texts = []\n",
    "for file in files:\n",
    "    with open(file, \"r\") as f:\n",
    "        texts.extend(f.readlines())"
   ]
  },
  {
   "cell_type": "code",
   "execution_count": 53,
   "metadata": {},
   "outputs": [],
   "source": [
    "# batch the texts into chunks of 1000\n",
    "# this is to avoid memory issues\n",
    "# when training the tokenizer\n",
    "\n",
    "batch_size = 1000\n",
    "batches = [texts[i : i + batch_size] for i in range(0, len(texts), batch_size)]"
   ]
  },
  {
   "cell_type": "code",
   "execution_count": 54,
   "metadata": {},
   "outputs": [],
   "source": [
    "# iterator over the texts\n",
    "def text_iterator():\n",
    "    for batch in batches:\n",
    "        yield batch"
   ]
  },
  {
   "cell_type": "code",
   "execution_count": 55,
   "metadata": {},
   "outputs": [],
   "source": [
    "# load old tokenizer\n",
    "from transformers import AutoTokenizer\n",
    "\n",
    "old_tokenizer = AutoTokenizer.from_pretrained(\"facebook/flava-full\")"
   ]
  },
  {
   "cell_type": "code",
   "execution_count": 56,
   "metadata": {},
   "outputs": [
    {
     "data": {
      "text/plain": [
       "30522"
      ]
     },
     "execution_count": 56,
     "metadata": {},
     "output_type": "execute_result"
    }
   ],
   "source": [
    "old_tokenizer.vocab_size"
   ]
  },
  {
   "cell_type": "code",
   "execution_count": 59,
   "metadata": {},
   "outputs": [
    {
     "data": {
      "text/plain": [
       "['she', \"'\", 's', 'alright', 'now', '?']"
      ]
     },
     "execution_count": 59,
     "metadata": {},
     "output_type": "execute_result"
    }
   ],
   "source": [
    "tokens = old_tokenizer.tokenize(texts[999000])\n",
    "tokens"
   ]
  },
  {
   "cell_type": "code",
   "execution_count": 66,
   "metadata": {},
   "outputs": [
    {
     "data": {
      "text/plain": [
       "{'unk_token': '[UNK]',\n",
       " 'sep_token': '[SEP]',\n",
       " 'pad_token': '[PAD]',\n",
       " 'cls_token': '[CLS]',\n",
       " 'mask_token': '[MASK]'}"
      ]
     },
     "execution_count": 66,
     "metadata": {},
     "output_type": "execute_result"
    }
   ],
   "source": [
    "old_tokenizer.special_tokens_map"
   ]
  },
  {
   "cell_type": "code",
   "execution_count": 65,
   "metadata": {},
   "outputs": [
    {
     "ename": "AttributeError",
     "evalue": "'BertTokenizerFast' object has no attribute 'get_special_tokens'",
     "output_type": "error",
     "traceback": [
      "\u001b[0;31m---------------------------------------------------------------------------\u001b[0m",
      "\u001b[0;31mAttributeError\u001b[0m                            Traceback (most recent call last)",
      "Cell \u001b[0;32mIn[65], line 2\u001b[0m\n\u001b[1;32m      1\u001b[0m \u001b[39m# Get special tokens from the old tokenizer\u001b[39;00m\n\u001b[0;32m----> 2\u001b[0m special_tokens \u001b[39m=\u001b[39m old_tokenizer\u001b[39m.\u001b[39;49mget_special_tokens()\n\u001b[1;32m      4\u001b[0m \u001b[39m# Create a dictionary mapping each special token to itself\u001b[39;00m\n\u001b[1;32m      5\u001b[0m special_tokens_map \u001b[39m=\u001b[39m {token: token \u001b[39mfor\u001b[39;00m token \u001b[39min\u001b[39;00m special_tokens}\n",
      "\u001b[0;31mAttributeError\u001b[0m: 'BertTokenizerFast' object has no attribute 'get_special_tokens'"
     ]
    }
   ],
   "source": [
    "tokenizer = old_tokenizer.train_new_from_iterator(\n",
    "    text_iterator(),\n",
    "    vocab_size=old_tokenizer.vocab_size,\n",
    "    special_tokens_map=special_tokens_map,\n",
    ")"
   ]
  },
  {
   "cell_type": "code",
   "execution_count": 60,
   "metadata": {},
   "outputs": [
    {
     "data": {
      "text/plain": [
       "['she', \"'\", 's', 'alright', 'now', '?']"
      ]
     },
     "execution_count": 60,
     "metadata": {},
     "output_type": "execute_result"
    }
   ],
   "source": [
    "tokens = tokenizer.tokenize(texts[999000])\n",
    "tokens"
   ]
  },
  {
   "cell_type": "code",
   "execution_count": 61,
   "metadata": {},
   "outputs": [
    {
     "data": {
      "text/plain": [
       "('./tokenizer-trained-babylm_100M/tokenizer_config.json',\n",
       " './tokenizer-trained-babylm_100M/special_tokens_map.json',\n",
       " './tokenizer-trained-babylm_100M/vocab.txt',\n",
       " './tokenizer-trained-babylm_100M/added_tokens.json',\n",
       " './tokenizer-trained-babylm_100M/tokenizer.json')"
      ]
     },
     "execution_count": 61,
     "metadata": {},
     "output_type": "execute_result"
    }
   ],
   "source": [
    "# save tokenizer\n",
    "tokenizer.save_pretrained(\"./tokenizer-trained-babylm_100M\")"
   ]
  },
  {
   "cell_type": "code",
   "execution_count": 67,
   "metadata": {},
   "outputs": [],
   "source": [
    "loaded_tokenizer = AutoTokenizer.from_pretrained(\"./tokenizer-trained-babylm_100M\")"
   ]
  },
  {
   "cell_type": "code",
   "execution_count": 68,
   "metadata": {},
   "outputs": [
    {
     "data": {
      "text/plain": [
       "BertTokenizerFast(name_or_path='./tokenizer-trained-babylm_100M', vocab_size=30522, model_max_length=512, is_fast=True, padding_side='right', truncation_side='right', special_tokens={'unk_token': '[UNK]', 'sep_token': '[SEP]', 'pad_token': '[PAD]', 'cls_token': '[CLS]', 'mask_token': '[MASK]'}, clean_up_tokenization_spaces=True)"
      ]
     },
     "execution_count": 68,
     "metadata": {},
     "output_type": "execute_result"
    }
   ],
   "source": [
    "loaded_tokenizer"
   ]
  },
  {
   "cell_type": "code",
   "execution_count": null,
   "metadata": {},
   "outputs": [],
   "source": []
  }
 ],
 "metadata": {
  "kernelspec": {
   "display_name": "prosody",
   "language": "python",
   "name": "python3"
  },
  "language_info": {
   "codemirror_mode": {
    "name": "ipython",
    "version": 3
   },
   "file_extension": ".py",
   "mimetype": "text/x-python",
   "name": "python",
   "nbconvert_exporter": "python",
   "pygments_lexer": "ipython3",
   "version": "3.9.16"
  },
  "orig_nbformat": 4
 },
 "nbformat": 4,
 "nbformat_minor": 2
}
